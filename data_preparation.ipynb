{
 "cells": [
  {
   "cell_type": "code",
   "execution_count": 68,
   "metadata": {},
   "outputs": [],
   "source": [
    "import numpy as np\n",
    "import pandas as pd\n",
    "import matplotlib.pyplot as plt\n"
   ]
  },
  {
   "cell_type": "markdown",
   "metadata": {},
   "source": [
    "### prepare for histogram"
   ]
  },
  {
   "cell_type": "code",
   "execution_count": 69,
   "metadata": {},
   "outputs": [],
   "source": [
    "df = pd.read_csv('./data/TPM.csv')"
   ]
  },
  {
   "cell_type": "code",
   "execution_count": 9,
   "metadata": {},
   "outputs": [
    {
     "data": {
      "text/plain": [
       "Index(['Unnamed: 0', 'variable', 'values'], dtype='object')"
      ]
     },
     "execution_count": 9,
     "metadata": {},
     "output_type": "execute_result"
    }
   ],
   "source": [
    "df.columns"
   ]
  },
  {
   "cell_type": "code",
   "execution_count": 22,
   "metadata": {},
   "outputs": [],
   "source": [
    "df.drop('Unnamed: 0', axis=1, inplace=True)"
   ]
  },
  {
   "cell_type": "code",
   "execution_count": 23,
   "metadata": {},
   "outputs": [],
   "source": [
    "def replace_dot(df, col):\n",
    "    \"\"\"replace . in dbname by _ for d3js\"\"\"\n",
    "    #dbname = df['db'].replace(\"_v1.5_10yrs\", \"\").replace(\"v1.5_10yrs\", \"\").replace(\".\", \"_\")\n",
    "    dbname = df[col].replace(\".\", \"_\")\n",
    "    return dbname\n"
   ]
  },
  {
   "cell_type": "code",
   "execution_count": 27,
   "metadata": {
    "scrolled": true
   },
   "outputs": [],
   "source": [
    "df['variable'] = df.apply(replace_dot, args=['variable'], axis=1 )"
   ]
  },
  {
   "cell_type": "code",
   "execution_count": 29,
   "metadata": {},
   "outputs": [],
   "source": [
    "df.to_csv(\"./data/TPM.csv\", index=False)"
   ]
  },
  {
   "cell_type": "code",
   "execution_count": 31,
   "metadata": {},
   "outputs": [
    {
     "data": {
      "text/plain": [
       "array(['dcr_nham1_ugri_v1_5_10yrs', 'dcr_nham1_ugri_v1_5_10yrs',\n",
       "       'dcr_nham1_ugri_v1_5_10yrs', ..., 'filterdist_indx5_v1_5_10yrs',\n",
       "       'filterdist_indx5_v1_5_10yrs', 'filterdist_indx5_v1_5_10yrs'],\n",
       "      dtype=object)"
      ]
     },
     "execution_count": 31,
     "metadata": {},
     "output_type": "execute_result"
    }
   ],
   "source": [
    "df['variable'].values"
   ]
  },
  {
   "cell_type": "code",
   "execution_count": 37,
   "metadata": {
    "collapsed": true
   },
   "outputs": [
    {
     "data": {
      "text/plain": [
       "['agnddf_v1_5_10yrs',\n",
       " 'alt_dust_v1_5_10yrs',\n",
       " 'alt_roll_mod2_dust_sdf_0_20_v1_5_10yrs',\n",
       " 'baseline_2snaps_v1_5_10yrs',\n",
       " 'baseline_samefilt_v1_5_10yrs',\n",
       " 'baseline_v1_5_10yrs',\n",
       " 'bulges_bs_v1_5_10yrs',\n",
       " 'bulges_bulge_wfd_v1_5_10yrs',\n",
       " 'bulges_cadence_bs_v1_5_10yrs',\n",
       " 'bulges_cadence_bulge_wfd_v1_5_10yrs',\n",
       " 'bulges_cadence_i_heavy_v1_5_10yrs',\n",
       " 'bulges_i_heavy_v1_5_10yrs',\n",
       " 'daily_ddf_v1_5_10yrs',\n",
       " 'dcr_nham1_ug_v1_5_10yrs',\n",
       " 'dcr_nham1_ugr_v1_5_10yrs',\n",
       " 'dcr_nham1_ugri_v1_5_10yrs',\n",
       " 'dcr_nham2_ug_v1_5_10yrs',\n",
       " 'dcr_nham2_ugr_v1_5_10yrs',\n",
       " 'dcr_nham2_ugri_v1_5_10yrs',\n",
       " 'descddf_v1_5_10yrs',\n",
       " 'filterdist_indx1_v1_5_10yrs',\n",
       " 'filterdist_indx2_v1_5_10yrs',\n",
       " 'filterdist_indx3_v1_5_10yrs',\n",
       " 'filterdist_indx4_v1_5_10yrs',\n",
       " 'filterdist_indx5_v1_5_10yrs',\n",
       " 'filterdist_indx6_v1_5_10yrs',\n",
       " 'filterdist_indx7_v1_5_10yrs',\n",
       " 'filterdist_indx8_v1_5_10yrs',\n",
       " 'footprint_add_mag_cloudsv1_5_10yrs',\n",
       " 'footprint_big_sky_dustv1_5_10yrs',\n",
       " 'footprint_big_sky_nouiyv1_5_10yrs',\n",
       " 'footprint_big_skyv1_5_10yrs',\n",
       " 'footprint_big_wfdv1_5_10yrs',\n",
       " 'footprint_bluer_footprintv1_5_10yrs',\n",
       " 'footprint_gp_smoothv1_5_10yrs',\n",
       " 'footprint_newAv1_5_10yrs',\n",
       " 'footprint_newBv1_5_10yrs',\n",
       " 'footprint_no_gp_northv1_5_10yrs',\n",
       " 'footprint_standard_goalsv1_5_10yrs',\n",
       " 'footprint_stuck_rollingv1_5_10yrs',\n",
       " 'goodseeing_gi_v1_5_10yrs',\n",
       " 'goodseeing_gri_v1_5_10yrs',\n",
       " 'goodseeing_griz_v1_5_10yrs',\n",
       " 'goodseeing_gz_v1_5_10yrs',\n",
       " 'goodseeing_i_v1_5_10yrs',\n",
       " 'greedy_footprint_v1_5_10yrs',\n",
       " 'rolling_mod2_sdf_0_10_v1_5_10yrs',\n",
       " 'rolling_mod2_sdf_0_20_v1_5_10yrs',\n",
       " 'rolling_mod3_sdf_0_10_v1_5_10yrs',\n",
       " 'rolling_mod3_sdf_0_20_v1_5_10yrs',\n",
       " 'rolling_mod6_sdf_0_10_v1_5_10yrs',\n",
       " 'rolling_mod6_sdf_0_20_v1_5_10yrs',\n",
       " 'short_exp_2ns_1expt_v1_5_10yrs',\n",
       " 'short_exp_2ns_5expt_v1_5_10yrs',\n",
       " 'short_exp_5ns_1expt_v1_5_10yrs',\n",
       " 'short_exp_5ns_5expt_v1_5_10yrs',\n",
       " 'spiders_v1_5_10yrs',\n",
       " 'third_obs_pt120v1_5_10yrs',\n",
       " 'third_obs_pt15v1_5_10yrs',\n",
       " 'third_obs_pt30v1_5_10yrs',\n",
       " 'third_obs_pt45v1_5_10yrs',\n",
       " 'third_obs_pt60v1_5_10yrs',\n",
       " 'third_obs_pt90v1_5_10yrs',\n",
       " 'twilight_neo_mod1_v1_5_10yrs',\n",
       " 'twilight_neo_mod2_v1_5_10yrs',\n",
       " 'twilight_neo_mod3_v1_5_10yrs',\n",
       " 'twilight_neo_mod4_v1_5_10yrs',\n",
       " 'u60_v1_5_10yrs',\n",
       " 'var_expt_v1_5_10yrs',\n",
       " 'wfd_depth_scale0_65_noddf_v1_5_10yrs',\n",
       " 'wfd_depth_scale0_65_v1_5_10yrs',\n",
       " 'wfd_depth_scale0_70_noddf_v1_5_10yrs',\n",
       " 'wfd_depth_scale0_70_v1_5_10yrs',\n",
       " 'wfd_depth_scale0_75_noddf_v1_5_10yrs',\n",
       " 'wfd_depth_scale0_75_v1_5_10yrs',\n",
       " 'wfd_depth_scale0_80_noddf_v1_5_10yrs',\n",
       " 'wfd_depth_scale0_80_v1_5_10yrs',\n",
       " 'wfd_depth_scale0_85_noddf_v1_5_10yrs',\n",
       " 'wfd_depth_scale0_85_v1_5_10yrs',\n",
       " 'wfd_depth_scale0_90_noddf_v1_5_10yrs',\n",
       " 'wfd_depth_scale0_90_v1_5_10yrs',\n",
       " 'wfd_depth_scale0_95_noddf_v1_5_10yrs',\n",
       " 'wfd_depth_scale0_95_v1_5_10yrs',\n",
       " 'wfd_depth_scale0_99_noddf_v1_5_10yrs',\n",
       " 'wfd_depth_scale0_99_v1_5_10yrs']"
      ]
     },
     "execution_count": 37,
     "metadata": {},
     "output_type": "execute_result"
    }
   ],
   "source": [
    "list( np.unique( np.sort( df['variable'].values ) ) )"
   ]
  },
  {
   "cell_type": "markdown",
   "metadata": {},
   "source": [
    "### prepare for radar plots"
   ]
  },
  {
   "cell_type": "code",
   "execution_count": 70,
   "metadata": {},
   "outputs": [],
   "source": [
    "def replace_dot(df):\n",
    "    \"\"\"replace . in dbname by _ for d3js\"\"\"\n",
    "    dbname = df['db'].replace(\"_v1.5_10yrs\", \"\").replace(\"v1.5_10yrs\", \"\").replace(\".\", \"_\")\n",
    "    return dbname\n",
    "    \n",
    "def get_df_radar_d3js(df_radar):\n",
    "    \"\"\"get csv data for d3js radar plot\"\"\"\n",
    "    df_radar['db'] = df_radar.apply(replace_dot, axis=1)\n",
    "    df_radar_t = df_radar.set_index('db').T.reset_index().rename(columns={'index':'section'})\n",
    "    return df_radar_t\n"
   ]
  },
  {
   "cell_type": "code",
   "execution_count": 79,
   "metadata": {},
   "outputs": [],
   "source": [
    "df_radar = pd.read_csv('https://github.com/fedhere/LSSTunknowns/raw/master/pmAnom/all_foms_timedomain_astrometry.csv')\n",
    "\n",
    "\n",
    "df_radar = df_radar.drop('family', axis=1)\n",
    "df_radar = df_radar.drop('Unnamed: 0', axis=1)\n",
    "\n"
   ]
  },
  {
   "cell_type": "code",
   "execution_count": 82,
   "metadata": {
    "scrolled": true
   },
   "outputs": [],
   "source": [
    "df_radar[\"PM\"] = df_radar[\"TPM\"] + df_radar[\"LS\"] + df_radar[\"CI\"]"
   ]
  },
  {
   "cell_type": "code",
   "execution_count": 83,
   "metadata": {},
   "outputs": [],
   "source": [
    "df_radar = df_radar.drop('TPM', axis=1)\n",
    "df_radar = df_radar.drop('LS', axis=1)\n",
    "df_radar = df_radar.drop('CI', axis=1)\n",
    "\n",
    "\n"
   ]
  },
  {
   "cell_type": "code",
   "execution_count": null,
   "metadata": {},
   "outputs": [],
   "source": []
  },
  {
   "cell_type": "code",
   "execution_count": 84,
   "metadata": {},
   "outputs": [],
   "source": [
    "df_radar_t = get_df_radar_d3js(df_radar)\n",
    "df_radar_t.to_csv(\"data/df_radar_all_foms2_t.csv\", index=False)\n"
   ]
  },
  {
   "cell_type": "code",
   "execution_count": 71,
   "metadata": {},
   "outputs": [],
   "source": [
    "df_pm_v15 = pd.read_csv('https://github.com/fedhere/LSSTunknowns/raw/master/pmAnom/Score_foms_v1.5_10yrs.csv')\n",
    "df_pm_v17 = pd.read_csv('https://github.com/fedhere/LSSTunknowns/raw/master/pmAnom/Score_foms_v1.7_10yrs.csv')\n",
    "\n"
   ]
  },
  {
   "cell_type": "code",
   "execution_count": 61,
   "metadata": {},
   "outputs": [
    {
     "data": {
      "text/html": [
       "<div>\n",
       "<style scoped>\n",
       "    .dataframe tbody tr th:only-of-type {\n",
       "        vertical-align: middle;\n",
       "    }\n",
       "\n",
       "    .dataframe tbody tr th {\n",
       "        vertical-align: top;\n",
       "    }\n",
       "\n",
       "    .dataframe thead th {\n",
       "        text-align: right;\n",
       "    }\n",
       "</style>\n",
       "<table border=\"1\" class=\"dataframe\">\n",
       "  <thead>\n",
       "    <tr style=\"text-align: right;\">\n",
       "      <th></th>\n",
       "      <th>Unnamed: 0</th>\n",
       "      <th>TPM</th>\n",
       "      <th>LS</th>\n",
       "      <th>CI</th>\n",
       "    </tr>\n",
       "  </thead>\n",
       "  <tbody>\n",
       "    <tr>\n",
       "      <th>0</th>\n",
       "      <td>dcr_nham1_ugri_v1.5_10yrs</td>\n",
       "      <td>4.194992</td>\n",
       "      <td>0.000143</td>\n",
       "      <td>0.000003</td>\n",
       "    </tr>\n",
       "    <tr>\n",
       "      <th>1</th>\n",
       "      <td>rolling_mod6_sdf_0.20_v1.5_10yrs</td>\n",
       "      <td>4.690263</td>\n",
       "      <td>0.000164</td>\n",
       "      <td>0.000003</td>\n",
       "    </tr>\n",
       "  </tbody>\n",
       "</table>\n",
       "</div>"
      ],
      "text/plain": [
       "                         Unnamed: 0       TPM        LS        CI\n",
       "0         dcr_nham1_ugri_v1.5_10yrs  4.194992  0.000143  0.000003\n",
       "1  rolling_mod6_sdf_0.20_v1.5_10yrs  4.690263  0.000164  0.000003"
      ]
     },
     "execution_count": 61,
     "metadata": {},
     "output_type": "execute_result"
    }
   ],
   "source": [
    "df_pm_v15.head(2)"
   ]
  },
  {
   "cell_type": "code",
   "execution_count": 72,
   "metadata": {},
   "outputs": [],
   "source": [
    "df_pm_v15.rename(columns={\"Unnamed: 0\":\"db\"}, inplace=True)\n",
    "df_pm_v17.rename(columns={\"Unnamed: 0\":\"db\"}, inplace=True)\n",
    "\n",
    "df_pm_v15.sort_values(by='db', inplace=True)\n",
    "\n",
    "df_pm_v17.sort_values(by='db', inplace=True)"
   ]
  },
  {
   "cell_type": "code",
   "execution_count": 73,
   "metadata": {
    "scrolled": true
   },
   "outputs": [],
   "source": [
    "df_pm = df_pm_v15.append(df_pm_v17, ignore_index=True)\n"
   ]
  },
  {
   "cell_type": "code",
   "execution_count": 74,
   "metadata": {},
   "outputs": [],
   "source": [
    "def scale(arr, mode=0):\n",
    "    \"\"\"scale array by max or scale to 0-1\"\"\"\n",
    "    newarr = arr / arr.max()\n",
    "    if mode==1:\n",
    "        newarr = (arr - arr.min()) / (arr.max()-arr.min())\n",
    "    return newarr\n"
   ]
  },
  {
   "cell_type": "code",
   "execution_count": 65,
   "metadata": {},
   "outputs": [
    {
     "data": {
      "text/plain": [
       "Index(['db', 'TPM', 'LS', 'CI'], dtype='object')"
      ]
     },
     "execution_count": 65,
     "metadata": {},
     "output_type": "execute_result"
    }
   ],
   "source": [
    "df_pm.columns"
   ]
  },
  {
   "cell_type": "code",
   "execution_count": 75,
   "metadata": {},
   "outputs": [],
   "source": [
    "for col in ['TPM', 'LS', 'CI']:\n",
    "    df_pm[col] = scale( df_pm[col].values )"
   ]
  },
  {
   "cell_type": "code",
   "execution_count": 76,
   "metadata": {},
   "outputs": [],
   "source": [
    "df_pm.to_csv(\"data/df_radar_pm_10yrs.csv\",index=False)\n",
    "\n",
    "df_radar_t = get_df_radar_d3js(df_pm)\n",
    "df_radar_t.to_csv(\"data/df_radar_pm_10yrs_t.csv\", index=False)\n",
    "\n"
   ]
  },
  {
   "cell_type": "code",
   "execution_count": 77,
   "metadata": {
    "scrolled": true
   },
   "outputs": [
    {
     "name": "stdout",
     "output_type": "stream",
     "text": [
      "Fields_nside16.csv       data_IC.csv              df_radar_pm_2yrs_t.csv\r\n",
      "Fields_nside64.csv       data_doubleHist.csv      df_radar_wfd.csv\r\n",
      "TPM.csv                  df_radar.csv             df_radar_wfd_t.csv\r\n",
      "TwoNum.csv               df_radar_all_foms.csv    df_rank.csv\r\n",
      "data_11.csv              df_radar_all_foms_t.csv  df_rank_t.csv\r\n",
      "data_12.csv              df_radar_pm_10yrs.csv    heatmap_data.csv\r\n",
      "data_12_2.csv            df_radar_pm_10yrs_t.csv  iris.csv\r\n"
     ]
    }
   ],
   "source": [
    "ls data"
   ]
  },
  {
   "cell_type": "code",
   "execution_count": 78,
   "metadata": {},
   "outputs": [
    {
     "data": {
      "text/html": [
       "<div>\n",
       "<style scoped>\n",
       "    .dataframe tbody tr th:only-of-type {\n",
       "        vertical-align: middle;\n",
       "    }\n",
       "\n",
       "    .dataframe tbody tr th {\n",
       "        vertical-align: top;\n",
       "    }\n",
       "\n",
       "    .dataframe thead th {\n",
       "        text-align: right;\n",
       "    }\n",
       "</style>\n",
       "<table border=\"1\" class=\"dataframe\">\n",
       "  <thead>\n",
       "    <tr style=\"text-align: right;\">\n",
       "      <th>db</th>\n",
       "      <th>section</th>\n",
       "      <th>agnddf</th>\n",
       "      <th>alt_dust</th>\n",
       "      <th>alt_roll_mod2_dust_sdf_0_20</th>\n",
       "      <th>baseline_2snaps</th>\n",
       "      <th>baseline_samefilt</th>\n",
       "      <th>baseline</th>\n",
       "      <th>bulges_bs</th>\n",
       "      <th>bulges_bulge_wfd</th>\n",
       "      <th>bulges_cadence_bs</th>\n",
       "      <th>...</th>\n",
       "      <th>twi_neo_pattern6_v1_7_10yrs</th>\n",
       "      <th>twi_neo_pattern7_v1_7_10yrs</th>\n",
       "      <th>twi_pairs_mixed_repeat_v1_7_10yrs</th>\n",
       "      <th>twi_pairs_mixed_v1_7_10yrs</th>\n",
       "      <th>twi_pairs_repeat_v1_7_10yrs</th>\n",
       "      <th>twi_pairs_v1_7_10yrs</th>\n",
       "      <th>u_long_ms_30_v1_7_10yrs</th>\n",
       "      <th>u_long_ms_40_v1_7_10yrs</th>\n",
       "      <th>u_long_ms_50_v1_7_10yrs</th>\n",
       "      <th>u_long_ms_60_v1_7_10yrs</th>\n",
       "    </tr>\n",
       "  </thead>\n",
       "  <tbody>\n",
       "    <tr>\n",
       "      <th>0</th>\n",
       "      <td>TPM</td>\n",
       "      <td>0.793800</td>\n",
       "      <td>0.796910</td>\n",
       "      <td>0.725070</td>\n",
       "      <td>0.803958</td>\n",
       "      <td>0.833242</td>\n",
       "      <td>0.792020</td>\n",
       "      <td>0.633561</td>\n",
       "      <td>0.621486</td>\n",
       "      <td>0.625616</td>\n",
       "      <td>...</td>\n",
       "      <td>0.706006</td>\n",
       "      <td>0.777165</td>\n",
       "      <td>0.624409</td>\n",
       "      <td>0.608860</td>\n",
       "      <td>0.657788</td>\n",
       "      <td>0.595258</td>\n",
       "      <td>0.777264</td>\n",
       "      <td>0.752384</td>\n",
       "      <td>0.729322</td>\n",
       "      <td>0.744588</td>\n",
       "    </tr>\n",
       "    <tr>\n",
       "      <th>1</th>\n",
       "      <td>LS</td>\n",
       "      <td>0.449657</td>\n",
       "      <td>0.549249</td>\n",
       "      <td>0.527580</td>\n",
       "      <td>0.479428</td>\n",
       "      <td>0.478071</td>\n",
       "      <td>0.476087</td>\n",
       "      <td>0.492866</td>\n",
       "      <td>0.485462</td>\n",
       "      <td>0.486134</td>\n",
       "      <td>...</td>\n",
       "      <td>0.730189</td>\n",
       "      <td>0.746686</td>\n",
       "      <td>0.775209</td>\n",
       "      <td>0.782503</td>\n",
       "      <td>0.794939</td>\n",
       "      <td>0.791407</td>\n",
       "      <td>0.734065</td>\n",
       "      <td>0.769304</td>\n",
       "      <td>0.786162</td>\n",
       "      <td>0.768732</td>\n",
       "    </tr>\n",
       "    <tr>\n",
       "      <th>2</th>\n",
       "      <td>CI</td>\n",
       "      <td>0.700429</td>\n",
       "      <td>0.665481</td>\n",
       "      <td>0.660286</td>\n",
       "      <td>0.650577</td>\n",
       "      <td>0.752308</td>\n",
       "      <td>0.698308</td>\n",
       "      <td>0.634528</td>\n",
       "      <td>0.625488</td>\n",
       "      <td>0.634575</td>\n",
       "      <td>...</td>\n",
       "      <td>0.906488</td>\n",
       "      <td>0.913767</td>\n",
       "      <td>0.942149</td>\n",
       "      <td>0.951681</td>\n",
       "      <td>0.944306</td>\n",
       "      <td>0.955021</td>\n",
       "      <td>0.974635</td>\n",
       "      <td>0.955746</td>\n",
       "      <td>0.930184</td>\n",
       "      <td>0.909624</td>\n",
       "    </tr>\n",
       "  </tbody>\n",
       "</table>\n",
       "<p>3 rows × 161 columns</p>\n",
       "</div>"
      ],
      "text/plain": [
       "db section    agnddf  alt_dust  alt_roll_mod2_dust_sdf_0_20  baseline_2snaps  \\\n",
       "0      TPM  0.793800  0.796910                     0.725070         0.803958   \n",
       "1       LS  0.449657  0.549249                     0.527580         0.479428   \n",
       "2       CI  0.700429  0.665481                     0.660286         0.650577   \n",
       "\n",
       "db  baseline_samefilt  baseline  bulges_bs  bulges_bulge_wfd  \\\n",
       "0            0.833242  0.792020   0.633561          0.621486   \n",
       "1            0.478071  0.476087   0.492866          0.485462   \n",
       "2            0.752308  0.698308   0.634528          0.625488   \n",
       "\n",
       "db  bulges_cadence_bs           ...             twi_neo_pattern6_v1_7_10yrs  \\\n",
       "0            0.625616           ...                                0.706006   \n",
       "1            0.486134           ...                                0.730189   \n",
       "2            0.634575           ...                                0.906488   \n",
       "\n",
       "db  twi_neo_pattern7_v1_7_10yrs  twi_pairs_mixed_repeat_v1_7_10yrs  \\\n",
       "0                      0.777165                           0.624409   \n",
       "1                      0.746686                           0.775209   \n",
       "2                      0.913767                           0.942149   \n",
       "\n",
       "db  twi_pairs_mixed_v1_7_10yrs  twi_pairs_repeat_v1_7_10yrs  \\\n",
       "0                     0.608860                     0.657788   \n",
       "1                     0.782503                     0.794939   \n",
       "2                     0.951681                     0.944306   \n",
       "\n",
       "db  twi_pairs_v1_7_10yrs  u_long_ms_30_v1_7_10yrs  u_long_ms_40_v1_7_10yrs  \\\n",
       "0               0.595258                 0.777264                 0.752384   \n",
       "1               0.791407                 0.734065                 0.769304   \n",
       "2               0.955021                 0.974635                 0.955746   \n",
       "\n",
       "db  u_long_ms_50_v1_7_10yrs  u_long_ms_60_v1_7_10yrs  \n",
       "0                  0.729322                 0.744588  \n",
       "1                  0.786162                 0.768732  \n",
       "2                  0.930184                 0.909624  \n",
       "\n",
       "[3 rows x 161 columns]"
      ]
     },
     "execution_count": 78,
     "metadata": {},
     "output_type": "execute_result"
    }
   ],
   "source": [
    "df_radar_t"
   ]
  },
  {
   "cell_type": "code",
   "execution_count": null,
   "metadata": {},
   "outputs": [],
   "source": []
  }
 ],
 "metadata": {
  "kernelspec": {
   "display_name": "Python 3",
   "language": "python",
   "name": "python3"
  },
  "language_info": {
   "codemirror_mode": {
    "name": "ipython",
    "version": 3
   },
   "file_extension": ".py",
   "mimetype": "text/x-python",
   "name": "python",
   "nbconvert_exporter": "python",
   "pygments_lexer": "ipython3",
   "version": "3.6.8"
  }
 },
 "nbformat": 4,
 "nbformat_minor": 2
}
