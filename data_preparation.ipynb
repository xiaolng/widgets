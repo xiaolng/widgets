{
 "cells": [
  {
   "cell_type": "code",
   "execution_count": 1,
   "metadata": {},
   "outputs": [],
   "source": [
    "import numpy as np\n",
    "import pandas as pd\n",
    "import matplotlib.pyplot as plt\n"
   ]
  },
  {
   "cell_type": "markdown",
   "metadata": {},
   "source": [
    "### prepare for histogram"
   ]
  },
  {
   "cell_type": "code",
   "execution_count": 69,
   "metadata": {},
   "outputs": [],
   "source": [
    "df = pd.read_csv('./data/TPM.csv')"
   ]
  },
  {
   "cell_type": "code",
   "execution_count": 9,
   "metadata": {},
   "outputs": [
    {
     "data": {
      "text/plain": [
       "Index(['Unnamed: 0', 'variable', 'values'], dtype='object')"
      ]
     },
     "execution_count": 9,
     "metadata": {},
     "output_type": "execute_result"
    }
   ],
   "source": [
    "df.columns"
   ]
  },
  {
   "cell_type": "code",
   "execution_count": 22,
   "metadata": {},
   "outputs": [],
   "source": [
    "df.drop('Unnamed: 0', axis=1, inplace=True)"
   ]
  },
  {
   "cell_type": "code",
   "execution_count": 23,
   "metadata": {},
   "outputs": [],
   "source": [
    "def replace_dot(df, col):\n",
    "    \"\"\"replace . in dbname by _ for d3js\"\"\"\n",
    "    #dbname = df['db'].replace(\"_v1.5_10yrs\", \"\").replace(\"v1.5_10yrs\", \"\").replace(\".\", \"_\")\n",
    "    dbname = df[col].replace(\".\", \"_\")\n",
    "    return dbname\n"
   ]
  },
  {
   "cell_type": "code",
   "execution_count": 27,
   "metadata": {
    "scrolled": true
   },
   "outputs": [],
   "source": [
    "df['variable'] = df.apply(replace_dot, args=['variable'], axis=1 )"
   ]
  },
  {
   "cell_type": "code",
   "execution_count": 29,
   "metadata": {},
   "outputs": [],
   "source": [
    "df.to_csv(\"./data/TPM.csv\", index=False)"
   ]
  },
  {
   "cell_type": "code",
   "execution_count": 31,
   "metadata": {},
   "outputs": [
    {
     "data": {
      "text/plain": [
       "array(['dcr_nham1_ugri_v1_5_10yrs', 'dcr_nham1_ugri_v1_5_10yrs',\n",
       "       'dcr_nham1_ugri_v1_5_10yrs', ..., 'filterdist_indx5_v1_5_10yrs',\n",
       "       'filterdist_indx5_v1_5_10yrs', 'filterdist_indx5_v1_5_10yrs'],\n",
       "      dtype=object)"
      ]
     },
     "execution_count": 31,
     "metadata": {},
     "output_type": "execute_result"
    }
   ],
   "source": [
    "df['variable'].values"
   ]
  },
  {
   "cell_type": "code",
   "execution_count": 37,
   "metadata": {
    "collapsed": true
   },
   "outputs": [
    {
     "data": {
      "text/plain": [
       "['agnddf_v1_5_10yrs',\n",
       " 'alt_dust_v1_5_10yrs',\n",
       " 'alt_roll_mod2_dust_sdf_0_20_v1_5_10yrs',\n",
       " 'baseline_2snaps_v1_5_10yrs',\n",
       " 'baseline_samefilt_v1_5_10yrs',\n",
       " 'baseline_v1_5_10yrs',\n",
       " 'bulges_bs_v1_5_10yrs',\n",
       " 'bulges_bulge_wfd_v1_5_10yrs',\n",
       " 'bulges_cadence_bs_v1_5_10yrs',\n",
       " 'bulges_cadence_bulge_wfd_v1_5_10yrs',\n",
       " 'bulges_cadence_i_heavy_v1_5_10yrs',\n",
       " 'bulges_i_heavy_v1_5_10yrs',\n",
       " 'daily_ddf_v1_5_10yrs',\n",
       " 'dcr_nham1_ug_v1_5_10yrs',\n",
       " 'dcr_nham1_ugr_v1_5_10yrs',\n",
       " 'dcr_nham1_ugri_v1_5_10yrs',\n",
       " 'dcr_nham2_ug_v1_5_10yrs',\n",
       " 'dcr_nham2_ugr_v1_5_10yrs',\n",
       " 'dcr_nham2_ugri_v1_5_10yrs',\n",
       " 'descddf_v1_5_10yrs',\n",
       " 'filterdist_indx1_v1_5_10yrs',\n",
       " 'filterdist_indx2_v1_5_10yrs',\n",
       " 'filterdist_indx3_v1_5_10yrs',\n",
       " 'filterdist_indx4_v1_5_10yrs',\n",
       " 'filterdist_indx5_v1_5_10yrs',\n",
       " 'filterdist_indx6_v1_5_10yrs',\n",
       " 'filterdist_indx7_v1_5_10yrs',\n",
       " 'filterdist_indx8_v1_5_10yrs',\n",
       " 'footprint_add_mag_cloudsv1_5_10yrs',\n",
       " 'footprint_big_sky_dustv1_5_10yrs',\n",
       " 'footprint_big_sky_nouiyv1_5_10yrs',\n",
       " 'footprint_big_skyv1_5_10yrs',\n",
       " 'footprint_big_wfdv1_5_10yrs',\n",
       " 'footprint_bluer_footprintv1_5_10yrs',\n",
       " 'footprint_gp_smoothv1_5_10yrs',\n",
       " 'footprint_newAv1_5_10yrs',\n",
       " 'footprint_newBv1_5_10yrs',\n",
       " 'footprint_no_gp_northv1_5_10yrs',\n",
       " 'footprint_standard_goalsv1_5_10yrs',\n",
       " 'footprint_stuck_rollingv1_5_10yrs',\n",
       " 'goodseeing_gi_v1_5_10yrs',\n",
       " 'goodseeing_gri_v1_5_10yrs',\n",
       " 'goodseeing_griz_v1_5_10yrs',\n",
       " 'goodseeing_gz_v1_5_10yrs',\n",
       " 'goodseeing_i_v1_5_10yrs',\n",
       " 'greedy_footprint_v1_5_10yrs',\n",
       " 'rolling_mod2_sdf_0_10_v1_5_10yrs',\n",
       " 'rolling_mod2_sdf_0_20_v1_5_10yrs',\n",
       " 'rolling_mod3_sdf_0_10_v1_5_10yrs',\n",
       " 'rolling_mod3_sdf_0_20_v1_5_10yrs',\n",
       " 'rolling_mod6_sdf_0_10_v1_5_10yrs',\n",
       " 'rolling_mod6_sdf_0_20_v1_5_10yrs',\n",
       " 'short_exp_2ns_1expt_v1_5_10yrs',\n",
       " 'short_exp_2ns_5expt_v1_5_10yrs',\n",
       " 'short_exp_5ns_1expt_v1_5_10yrs',\n",
       " 'short_exp_5ns_5expt_v1_5_10yrs',\n",
       " 'spiders_v1_5_10yrs',\n",
       " 'third_obs_pt120v1_5_10yrs',\n",
       " 'third_obs_pt15v1_5_10yrs',\n",
       " 'third_obs_pt30v1_5_10yrs',\n",
       " 'third_obs_pt45v1_5_10yrs',\n",
       " 'third_obs_pt60v1_5_10yrs',\n",
       " 'third_obs_pt90v1_5_10yrs',\n",
       " 'twilight_neo_mod1_v1_5_10yrs',\n",
       " 'twilight_neo_mod2_v1_5_10yrs',\n",
       " 'twilight_neo_mod3_v1_5_10yrs',\n",
       " 'twilight_neo_mod4_v1_5_10yrs',\n",
       " 'u60_v1_5_10yrs',\n",
       " 'var_expt_v1_5_10yrs',\n",
       " 'wfd_depth_scale0_65_noddf_v1_5_10yrs',\n",
       " 'wfd_depth_scale0_65_v1_5_10yrs',\n",
       " 'wfd_depth_scale0_70_noddf_v1_5_10yrs',\n",
       " 'wfd_depth_scale0_70_v1_5_10yrs',\n",
       " 'wfd_depth_scale0_75_noddf_v1_5_10yrs',\n",
       " 'wfd_depth_scale0_75_v1_5_10yrs',\n",
       " 'wfd_depth_scale0_80_noddf_v1_5_10yrs',\n",
       " 'wfd_depth_scale0_80_v1_5_10yrs',\n",
       " 'wfd_depth_scale0_85_noddf_v1_5_10yrs',\n",
       " 'wfd_depth_scale0_85_v1_5_10yrs',\n",
       " 'wfd_depth_scale0_90_noddf_v1_5_10yrs',\n",
       " 'wfd_depth_scale0_90_v1_5_10yrs',\n",
       " 'wfd_depth_scale0_95_noddf_v1_5_10yrs',\n",
       " 'wfd_depth_scale0_95_v1_5_10yrs',\n",
       " 'wfd_depth_scale0_99_noddf_v1_5_10yrs',\n",
       " 'wfd_depth_scale0_99_v1_5_10yrs']"
      ]
     },
     "execution_count": 37,
     "metadata": {},
     "output_type": "execute_result"
    }
   ],
   "source": [
    "list( np.unique( np.sort( df['variable'].values ) ) )"
   ]
  },
  {
   "cell_type": "markdown",
   "metadata": {},
   "source": [
    "### prepare for radar plots"
   ]
  },
  {
   "cell_type": "code",
   "execution_count": 70,
   "metadata": {},
   "outputs": [],
   "source": [
    "def replace_dot(df):\n",
    "    \"\"\"replace . in dbname by _ for d3js\"\"\"\n",
    "    dbname = df['db'].replace(\"_v1.5_10yrs\", \"\").replace(\"v1.5_10yrs\", \"\").replace(\".\", \"_\")\n",
    "    return dbname\n",
    "    \n",
    "def get_df_radar_d3js(df_radar):\n",
    "    \"\"\"get csv data for d3js radar plot\"\"\"\n",
    "    df_radar['db'] = df_radar.apply(replace_dot, axis=1)\n",
    "    df_radar_t = df_radar.set_index('db').T.reset_index().rename(columns={'index':'section'})\n",
    "    return df_radar_t\n"
   ]
  },
  {
   "cell_type": "code",
   "execution_count": 85,
   "metadata": {},
   "outputs": [],
   "source": [
    "df_radar = pd.read_csv('https://github.com/fedhere/LSSTunknowns/raw/master/pmAnom/all_foms_timedomain_astrometry.csv')\n",
    "\n",
    "\n",
    "df_radar = df_radar.drop('family', axis=1)\n",
    "df_radar = df_radar.drop('Unnamed: 0', axis=1)\n",
    "\n"
   ]
  },
  {
   "cell_type": "code",
   "execution_count": 86,
   "metadata": {
    "scrolled": true
   },
   "outputs": [],
   "source": [
    "df_radar[\"PM\"] = 1/3 * (df_radar[\"TPM\"] + df_radar[\"LS\"] + df_radar[\"CI\"])"
   ]
  },
  {
   "cell_type": "code",
   "execution_count": 87,
   "metadata": {},
   "outputs": [],
   "source": [
    "df_radar = df_radar.drop('TPM', axis=1)\n",
    "df_radar = df_radar.drop('LS', axis=1)\n",
    "df_radar = df_radar.drop('CI', axis=1)\n",
    "\n",
    "\n"
   ]
  },
  {
   "cell_type": "code",
   "execution_count": 88,
   "metadata": {},
   "outputs": [],
   "source": [
    "df_radar_t = get_df_radar_d3js(df_radar)\n",
    "df_radar_t.to_csv(\"data/df_radar_all_foms2_t.csv\", index=False)\n"
   ]
  },
  {
   "cell_type": "code",
   "execution_count": 89,
   "metadata": {},
   "outputs": [
    {
     "data": {
      "text/html": [
       "<div>\n",
       "<style scoped>\n",
       "    .dataframe tbody tr th:only-of-type {\n",
       "        vertical-align: middle;\n",
       "    }\n",
       "\n",
       "    .dataframe tbody tr th {\n",
       "        vertical-align: top;\n",
       "    }\n",
       "\n",
       "    .dataframe thead th {\n",
       "        text-align: right;\n",
       "    }\n",
       "</style>\n",
       "<table border=\"1\" class=\"dataframe\">\n",
       "  <thead>\n",
       "    <tr style=\"text-align: right;\">\n",
       "      <th>db</th>\n",
       "      <th>section</th>\n",
       "      <th>agnddf</th>\n",
       "      <th>alt_dust</th>\n",
       "      <th>alt_roll_mod2_dust_sdf_0_20</th>\n",
       "      <th>baseline_2snaps</th>\n",
       "      <th>baseline_samefilt</th>\n",
       "      <th>baseline</th>\n",
       "      <th>bulges_bs</th>\n",
       "      <th>bulges_bulge_wfd</th>\n",
       "      <th>bulges_cadence_bs</th>\n",
       "      <th>...</th>\n",
       "      <th>wfd_depth_scale0_80_noddf</th>\n",
       "      <th>wfd_depth_scale0_80</th>\n",
       "      <th>wfd_depth_scale0_85_noddf</th>\n",
       "      <th>wfd_depth_scale0_85</th>\n",
       "      <th>wfd_depth_scale0_90_noddf</th>\n",
       "      <th>wfd_depth_scale0_90</th>\n",
       "      <th>wfd_depth_scale0_95_noddf</th>\n",
       "      <th>wfd_depth_scale0_95</th>\n",
       "      <th>wfd_depth_scale0_99_noddf</th>\n",
       "      <th>wfd_depth_scale0_99</th>\n",
       "    </tr>\n",
       "  </thead>\n",
       "  <tbody>\n",
       "    <tr>\n",
       "      <th>0</th>\n",
       "      <td>flux change</td>\n",
       "      <td>0.132988</td>\n",
       "      <td>0.133044</td>\n",
       "      <td>0.138956</td>\n",
       "      <td>0.135375</td>\n",
       "      <td>0.206479</td>\n",
       "      <td>0.142425</td>\n",
       "      <td>0.122704</td>\n",
       "      <td>0.126914</td>\n",
       "      <td>0.130511</td>\n",
       "      <td>...</td>\n",
       "      <td>0.149917</td>\n",
       "      <td>0.144886</td>\n",
       "      <td>0.158663</td>\n",
       "      <td>0.157811</td>\n",
       "      <td>0.153213</td>\n",
       "      <td>0.149066</td>\n",
       "      <td>0.138201</td>\n",
       "      <td>0.157164</td>\n",
       "      <td>0.153669</td>\n",
       "      <td>0.150922</td>\n",
       "    </tr>\n",
       "    <tr>\n",
       "      <th>1</th>\n",
       "      <td>color</td>\n",
       "      <td>0.503818</td>\n",
       "      <td>0.703636</td>\n",
       "      <td>0.795575</td>\n",
       "      <td>0.461125</td>\n",
       "      <td>0.190582</td>\n",
       "      <td>0.542411</td>\n",
       "      <td>0.396956</td>\n",
       "      <td>0.391134</td>\n",
       "      <td>0.408157</td>\n",
       "      <td>...</td>\n",
       "      <td>0.510940</td>\n",
       "      <td>0.463325</td>\n",
       "      <td>0.547196</td>\n",
       "      <td>0.494813</td>\n",
       "      <td>0.580788</td>\n",
       "      <td>0.522871</td>\n",
       "      <td>0.610349</td>\n",
       "      <td>0.551025</td>\n",
       "      <td>0.663368</td>\n",
       "      <td>0.609797</td>\n",
       "    </tr>\n",
       "    <tr>\n",
       "      <th>2</th>\n",
       "      <td>footprint</td>\n",
       "      <td>0.717233</td>\n",
       "      <td>0.442079</td>\n",
       "      <td>0.551082</td>\n",
       "      <td>0.437133</td>\n",
       "      <td>0.519281</td>\n",
       "      <td>0.752009</td>\n",
       "      <td>0.325309</td>\n",
       "      <td>0.309274</td>\n",
       "      <td>0.327589</td>\n",
       "      <td>...</td>\n",
       "      <td>0.655294</td>\n",
       "      <td>0.468470</td>\n",
       "      <td>0.797643</td>\n",
       "      <td>0.613872</td>\n",
       "      <td>0.872836</td>\n",
       "      <td>0.741422</td>\n",
       "      <td>0.940147</td>\n",
       "      <td>0.844745</td>\n",
       "      <td>0.975811</td>\n",
       "      <td>0.911669</td>\n",
       "    </tr>\n",
       "    <tr>\n",
       "      <th>3</th>\n",
       "      <td>star count</td>\n",
       "      <td>0.728116</td>\n",
       "      <td>0.254255</td>\n",
       "      <td>0.306606</td>\n",
       "      <td>0.467183</td>\n",
       "      <td>0.504146</td>\n",
       "      <td>0.766289</td>\n",
       "      <td>0.268242</td>\n",
       "      <td>0.241618</td>\n",
       "      <td>0.263078</td>\n",
       "      <td>...</td>\n",
       "      <td>0.676951</td>\n",
       "      <td>0.497516</td>\n",
       "      <td>0.795106</td>\n",
       "      <td>0.641503</td>\n",
       "      <td>0.846012</td>\n",
       "      <td>0.766310</td>\n",
       "      <td>0.925828</td>\n",
       "      <td>0.837897</td>\n",
       "      <td>0.940291</td>\n",
       "      <td>0.900263</td>\n",
       "    </tr>\n",
       "    <tr>\n",
       "      <th>4</th>\n",
       "      <td>depth</td>\n",
       "      <td>0.931742</td>\n",
       "      <td>0.800220</td>\n",
       "      <td>0.692088</td>\n",
       "      <td>0.863893</td>\n",
       "      <td>0.866805</td>\n",
       "      <td>0.922776</td>\n",
       "      <td>0.927274</td>\n",
       "      <td>0.929885</td>\n",
       "      <td>0.923457</td>\n",
       "      <td>...</td>\n",
       "      <td>0.933398</td>\n",
       "      <td>0.913452</td>\n",
       "      <td>0.938971</td>\n",
       "      <td>0.915785</td>\n",
       "      <td>0.938782</td>\n",
       "      <td>0.920611</td>\n",
       "      <td>0.942230</td>\n",
       "      <td>0.921092</td>\n",
       "      <td>0.942138</td>\n",
       "      <td>0.920876</td>\n",
       "    </tr>\n",
       "    <tr>\n",
       "      <th>5</th>\n",
       "      <td>PM</td>\n",
       "      <td>0.360996</td>\n",
       "      <td>0.437974</td>\n",
       "      <td>0.608098</td>\n",
       "      <td>0.657432</td>\n",
       "      <td>0.407147</td>\n",
       "      <td>0.408935</td>\n",
       "      <td>0.399158</td>\n",
       "      <td>0.497079</td>\n",
       "      <td>0.480139</td>\n",
       "      <td>...</td>\n",
       "      <td>0.487117</td>\n",
       "      <td>0.493935</td>\n",
       "      <td>0.417698</td>\n",
       "      <td>0.462134</td>\n",
       "      <td>0.470938</td>\n",
       "      <td>0.366446</td>\n",
       "      <td>0.505863</td>\n",
       "      <td>0.402378</td>\n",
       "      <td>0.373185</td>\n",
       "      <td>0.702034</td>\n",
       "    </tr>\n",
       "  </tbody>\n",
       "</table>\n",
       "<p>6 rows × 87 columns</p>\n",
       "</div>"
      ],
      "text/plain": [
       "db      section    agnddf  alt_dust  alt_roll_mod2_dust_sdf_0_20  \\\n",
       "0   flux change  0.132988  0.133044                     0.138956   \n",
       "1         color  0.503818  0.703636                     0.795575   \n",
       "2     footprint  0.717233  0.442079                     0.551082   \n",
       "3    star count  0.728116  0.254255                     0.306606   \n",
       "4         depth  0.931742  0.800220                     0.692088   \n",
       "5            PM  0.360996  0.437974                     0.608098   \n",
       "\n",
       "db  baseline_2snaps  baseline_samefilt  baseline  bulges_bs  bulges_bulge_wfd  \\\n",
       "0          0.135375           0.206479  0.142425   0.122704          0.126914   \n",
       "1          0.461125           0.190582  0.542411   0.396956          0.391134   \n",
       "2          0.437133           0.519281  0.752009   0.325309          0.309274   \n",
       "3          0.467183           0.504146  0.766289   0.268242          0.241618   \n",
       "4          0.863893           0.866805  0.922776   0.927274          0.929885   \n",
       "5          0.657432           0.407147  0.408935   0.399158          0.497079   \n",
       "\n",
       "db  bulges_cadence_bs         ...           wfd_depth_scale0_80_noddf  \\\n",
       "0            0.130511         ...                            0.149917   \n",
       "1            0.408157         ...                            0.510940   \n",
       "2            0.327589         ...                            0.655294   \n",
       "3            0.263078         ...                            0.676951   \n",
       "4            0.923457         ...                            0.933398   \n",
       "5            0.480139         ...                            0.487117   \n",
       "\n",
       "db  wfd_depth_scale0_80  wfd_depth_scale0_85_noddf  wfd_depth_scale0_85  \\\n",
       "0              0.144886                   0.158663             0.157811   \n",
       "1              0.463325                   0.547196             0.494813   \n",
       "2              0.468470                   0.797643             0.613872   \n",
       "3              0.497516                   0.795106             0.641503   \n",
       "4              0.913452                   0.938971             0.915785   \n",
       "5              0.493935                   0.417698             0.462134   \n",
       "\n",
       "db  wfd_depth_scale0_90_noddf  wfd_depth_scale0_90  wfd_depth_scale0_95_noddf  \\\n",
       "0                    0.153213             0.149066                   0.138201   \n",
       "1                    0.580788             0.522871                   0.610349   \n",
       "2                    0.872836             0.741422                   0.940147   \n",
       "3                    0.846012             0.766310                   0.925828   \n",
       "4                    0.938782             0.920611                   0.942230   \n",
       "5                    0.470938             0.366446                   0.505863   \n",
       "\n",
       "db  wfd_depth_scale0_95  wfd_depth_scale0_99_noddf  wfd_depth_scale0_99  \n",
       "0              0.157164                   0.153669             0.150922  \n",
       "1              0.551025                   0.663368             0.609797  \n",
       "2              0.844745                   0.975811             0.911669  \n",
       "3              0.837897                   0.940291             0.900263  \n",
       "4              0.921092                   0.942138             0.920876  \n",
       "5              0.402378                   0.373185             0.702034  \n",
       "\n",
       "[6 rows x 87 columns]"
      ]
     },
     "execution_count": 89,
     "metadata": {},
     "output_type": "execute_result"
    }
   ],
   "source": [
    "df_radar_t"
   ]
  },
  {
   "cell_type": "code",
   "execution_count": 71,
   "metadata": {},
   "outputs": [],
   "source": [
    "df_pm_v15 = pd.read_csv('https://github.com/fedhere/LSSTunknowns/raw/master/pmAnom/Score_foms_v1.5_10yrs.csv')\n",
    "df_pm_v17 = pd.read_csv('https://github.com/fedhere/LSSTunknowns/raw/master/pmAnom/Score_foms_v1.7_10yrs.csv')\n",
    "\n"
   ]
  },
  {
   "cell_type": "code",
   "execution_count": 61,
   "metadata": {},
   "outputs": [
    {
     "data": {
      "text/html": [
       "<div>\n",
       "<style scoped>\n",
       "    .dataframe tbody tr th:only-of-type {\n",
       "        vertical-align: middle;\n",
       "    }\n",
       "\n",
       "    .dataframe tbody tr th {\n",
       "        vertical-align: top;\n",
       "    }\n",
       "\n",
       "    .dataframe thead th {\n",
       "        text-align: right;\n",
       "    }\n",
       "</style>\n",
       "<table border=\"1\" class=\"dataframe\">\n",
       "  <thead>\n",
       "    <tr style=\"text-align: right;\">\n",
       "      <th></th>\n",
       "      <th>Unnamed: 0</th>\n",
       "      <th>TPM</th>\n",
       "      <th>LS</th>\n",
       "      <th>CI</th>\n",
       "    </tr>\n",
       "  </thead>\n",
       "  <tbody>\n",
       "    <tr>\n",
       "      <th>0</th>\n",
       "      <td>dcr_nham1_ugri_v1.5_10yrs</td>\n",
       "      <td>4.194992</td>\n",
       "      <td>0.000143</td>\n",
       "      <td>0.000003</td>\n",
       "    </tr>\n",
       "    <tr>\n",
       "      <th>1</th>\n",
       "      <td>rolling_mod6_sdf_0.20_v1.5_10yrs</td>\n",
       "      <td>4.690263</td>\n",
       "      <td>0.000164</td>\n",
       "      <td>0.000003</td>\n",
       "    </tr>\n",
       "  </tbody>\n",
       "</table>\n",
       "</div>"
      ],
      "text/plain": [
       "                         Unnamed: 0       TPM        LS        CI\n",
       "0         dcr_nham1_ugri_v1.5_10yrs  4.194992  0.000143  0.000003\n",
       "1  rolling_mod6_sdf_0.20_v1.5_10yrs  4.690263  0.000164  0.000003"
      ]
     },
     "execution_count": 61,
     "metadata": {},
     "output_type": "execute_result"
    }
   ],
   "source": [
    "df_pm_v15.head(2)"
   ]
  },
  {
   "cell_type": "code",
   "execution_count": 72,
   "metadata": {},
   "outputs": [],
   "source": [
    "df_pm_v15.rename(columns={\"Unnamed: 0\":\"db\"}, inplace=True)\n",
    "df_pm_v17.rename(columns={\"Unnamed: 0\":\"db\"}, inplace=True)\n",
    "\n",
    "df_pm_v15.sort_values(by='db', inplace=True)\n",
    "\n",
    "df_pm_v17.sort_values(by='db', inplace=True)"
   ]
  },
  {
   "cell_type": "code",
   "execution_count": 73,
   "metadata": {
    "scrolled": true
   },
   "outputs": [],
   "source": [
    "df_pm = df_pm_v15.append(df_pm_v17, ignore_index=True)\n"
   ]
  },
  {
   "cell_type": "code",
   "execution_count": 74,
   "metadata": {},
   "outputs": [],
   "source": [
    "def scale(arr, mode=0):\n",
    "    \"\"\"scale array by max or scale to 0-1\"\"\"\n",
    "    newarr = arr / arr.max()\n",
    "    if mode==1:\n",
    "        newarr = (arr - arr.min()) / (arr.max()-arr.min())\n",
    "    return newarr\n"
   ]
  },
  {
   "cell_type": "code",
   "execution_count": 65,
   "metadata": {},
   "outputs": [
    {
     "data": {
      "text/plain": [
       "Index(['db', 'TPM', 'LS', 'CI'], dtype='object')"
      ]
     },
     "execution_count": 65,
     "metadata": {},
     "output_type": "execute_result"
    }
   ],
   "source": [
    "df_pm.columns"
   ]
  },
  {
   "cell_type": "code",
   "execution_count": 75,
   "metadata": {},
   "outputs": [],
   "source": [
    "for col in ['TPM', 'LS', 'CI']:\n",
    "    df_pm[col] = scale( df_pm[col].values )"
   ]
  },
  {
   "cell_type": "code",
   "execution_count": 76,
   "metadata": {},
   "outputs": [],
   "source": [
    "df_pm.to_csv(\"data/df_radar_pm_10yrs.csv\",index=False)\n",
    "\n",
    "df_radar_t = get_df_radar_d3js(df_pm)\n",
    "df_radar_t.to_csv(\"data/df_radar_pm_10yrs_t.csv\", index=False)\n",
    "\n"
   ]
  },
  {
   "cell_type": "code",
   "execution_count": 77,
   "metadata": {
    "scrolled": true
   },
   "outputs": [
    {
     "name": "stdout",
     "output_type": "stream",
     "text": [
      "Fields_nside16.csv       data_IC.csv              df_radar_pm_2yrs_t.csv\r\n",
      "Fields_nside64.csv       data_doubleHist.csv      df_radar_wfd.csv\r\n",
      "TPM.csv                  df_radar.csv             df_radar_wfd_t.csv\r\n",
      "TwoNum.csv               df_radar_all_foms.csv    df_rank.csv\r\n",
      "data_11.csv              df_radar_all_foms_t.csv  df_rank_t.csv\r\n",
      "data_12.csv              df_radar_pm_10yrs.csv    heatmap_data.csv\r\n",
      "data_12_2.csv            df_radar_pm_10yrs_t.csv  iris.csv\r\n"
     ]
    }
   ],
   "source": [
    "ls data"
   ]
  },
  {
   "cell_type": "code",
   "execution_count": 78,
   "metadata": {},
   "outputs": [
    {
     "data": {
      "text/html": [
       "<div>\n",
       "<style scoped>\n",
       "    .dataframe tbody tr th:only-of-type {\n",
       "        vertical-align: middle;\n",
       "    }\n",
       "\n",
       "    .dataframe tbody tr th {\n",
       "        vertical-align: top;\n",
       "    }\n",
       "\n",
       "    .dataframe thead th {\n",
       "        text-align: right;\n",
       "    }\n",
       "</style>\n",
       "<table border=\"1\" class=\"dataframe\">\n",
       "  <thead>\n",
       "    <tr style=\"text-align: right;\">\n",
       "      <th>db</th>\n",
       "      <th>section</th>\n",
       "      <th>agnddf</th>\n",
       "      <th>alt_dust</th>\n",
       "      <th>alt_roll_mod2_dust_sdf_0_20</th>\n",
       "      <th>baseline_2snaps</th>\n",
       "      <th>baseline_samefilt</th>\n",
       "      <th>baseline</th>\n",
       "      <th>bulges_bs</th>\n",
       "      <th>bulges_bulge_wfd</th>\n",
       "      <th>bulges_cadence_bs</th>\n",
       "      <th>...</th>\n",
       "      <th>twi_neo_pattern6_v1_7_10yrs</th>\n",
       "      <th>twi_neo_pattern7_v1_7_10yrs</th>\n",
       "      <th>twi_pairs_mixed_repeat_v1_7_10yrs</th>\n",
       "      <th>twi_pairs_mixed_v1_7_10yrs</th>\n",
       "      <th>twi_pairs_repeat_v1_7_10yrs</th>\n",
       "      <th>twi_pairs_v1_7_10yrs</th>\n",
       "      <th>u_long_ms_30_v1_7_10yrs</th>\n",
       "      <th>u_long_ms_40_v1_7_10yrs</th>\n",
       "      <th>u_long_ms_50_v1_7_10yrs</th>\n",
       "      <th>u_long_ms_60_v1_7_10yrs</th>\n",
       "    </tr>\n",
       "  </thead>\n",
       "  <tbody>\n",
       "    <tr>\n",
       "      <th>0</th>\n",
       "      <td>TPM</td>\n",
       "      <td>0.793800</td>\n",
       "      <td>0.796910</td>\n",
       "      <td>0.725070</td>\n",
       "      <td>0.803958</td>\n",
       "      <td>0.833242</td>\n",
       "      <td>0.792020</td>\n",
       "      <td>0.633561</td>\n",
       "      <td>0.621486</td>\n",
       "      <td>0.625616</td>\n",
       "      <td>...</td>\n",
       "      <td>0.706006</td>\n",
       "      <td>0.777165</td>\n",
       "      <td>0.624409</td>\n",
       "      <td>0.608860</td>\n",
       "      <td>0.657788</td>\n",
       "      <td>0.595258</td>\n",
       "      <td>0.777264</td>\n",
       "      <td>0.752384</td>\n",
       "      <td>0.729322</td>\n",
       "      <td>0.744588</td>\n",
       "    </tr>\n",
       "    <tr>\n",
       "      <th>1</th>\n",
       "      <td>LS</td>\n",
       "      <td>0.449657</td>\n",
       "      <td>0.549249</td>\n",
       "      <td>0.527580</td>\n",
       "      <td>0.479428</td>\n",
       "      <td>0.478071</td>\n",
       "      <td>0.476087</td>\n",
       "      <td>0.492866</td>\n",
       "      <td>0.485462</td>\n",
       "      <td>0.486134</td>\n",
       "      <td>...</td>\n",
       "      <td>0.730189</td>\n",
       "      <td>0.746686</td>\n",
       "      <td>0.775209</td>\n",
       "      <td>0.782503</td>\n",
       "      <td>0.794939</td>\n",
       "      <td>0.791407</td>\n",
       "      <td>0.734065</td>\n",
       "      <td>0.769304</td>\n",
       "      <td>0.786162</td>\n",
       "      <td>0.768732</td>\n",
       "    </tr>\n",
       "    <tr>\n",
       "      <th>2</th>\n",
       "      <td>CI</td>\n",
       "      <td>0.700429</td>\n",
       "      <td>0.665481</td>\n",
       "      <td>0.660286</td>\n",
       "      <td>0.650577</td>\n",
       "      <td>0.752308</td>\n",
       "      <td>0.698308</td>\n",
       "      <td>0.634528</td>\n",
       "      <td>0.625488</td>\n",
       "      <td>0.634575</td>\n",
       "      <td>...</td>\n",
       "      <td>0.906488</td>\n",
       "      <td>0.913767</td>\n",
       "      <td>0.942149</td>\n",
       "      <td>0.951681</td>\n",
       "      <td>0.944306</td>\n",
       "      <td>0.955021</td>\n",
       "      <td>0.974635</td>\n",
       "      <td>0.955746</td>\n",
       "      <td>0.930184</td>\n",
       "      <td>0.909624</td>\n",
       "    </tr>\n",
       "  </tbody>\n",
       "</table>\n",
       "<p>3 rows × 161 columns</p>\n",
       "</div>"
      ],
      "text/plain": [
       "db section    agnddf  alt_dust  alt_roll_mod2_dust_sdf_0_20  baseline_2snaps  \\\n",
       "0      TPM  0.793800  0.796910                     0.725070         0.803958   \n",
       "1       LS  0.449657  0.549249                     0.527580         0.479428   \n",
       "2       CI  0.700429  0.665481                     0.660286         0.650577   \n",
       "\n",
       "db  baseline_samefilt  baseline  bulges_bs  bulges_bulge_wfd  \\\n",
       "0            0.833242  0.792020   0.633561          0.621486   \n",
       "1            0.478071  0.476087   0.492866          0.485462   \n",
       "2            0.752308  0.698308   0.634528          0.625488   \n",
       "\n",
       "db  bulges_cadence_bs           ...             twi_neo_pattern6_v1_7_10yrs  \\\n",
       "0            0.625616           ...                                0.706006   \n",
       "1            0.486134           ...                                0.730189   \n",
       "2            0.634575           ...                                0.906488   \n",
       "\n",
       "db  twi_neo_pattern7_v1_7_10yrs  twi_pairs_mixed_repeat_v1_7_10yrs  \\\n",
       "0                      0.777165                           0.624409   \n",
       "1                      0.746686                           0.775209   \n",
       "2                      0.913767                           0.942149   \n",
       "\n",
       "db  twi_pairs_mixed_v1_7_10yrs  twi_pairs_repeat_v1_7_10yrs  \\\n",
       "0                     0.608860                     0.657788   \n",
       "1                     0.782503                     0.794939   \n",
       "2                     0.951681                     0.944306   \n",
       "\n",
       "db  twi_pairs_v1_7_10yrs  u_long_ms_30_v1_7_10yrs  u_long_ms_40_v1_7_10yrs  \\\n",
       "0               0.595258                 0.777264                 0.752384   \n",
       "1               0.791407                 0.734065                 0.769304   \n",
       "2               0.955021                 0.974635                 0.955746   \n",
       "\n",
       "db  u_long_ms_50_v1_7_10yrs  u_long_ms_60_v1_7_10yrs  \n",
       "0                  0.729322                 0.744588  \n",
       "1                  0.786162                 0.768732  \n",
       "2                  0.930184                 0.909624  \n",
       "\n",
       "[3 rows x 161 columns]"
      ]
     },
     "execution_count": 78,
     "metadata": {},
     "output_type": "execute_result"
    }
   ],
   "source": [
    "df_radar_t"
   ]
  },
  {
   "cell_type": "markdown",
   "metadata": {},
   "source": [
    "### skymap data"
   ]
  },
  {
   "cell_type": "code",
   "execution_count": 10,
   "metadata": {},
   "outputs": [
    {
     "name": "stdout",
     "output_type": "stream",
     "text": [
      "Fields_nside16.csv        data_doubleHist.csv       df_radar_wfd.csv\r\n",
      "Fields_nside64.csv        df_radar.csv              df_radar_wfd_t.csv\r\n",
      "TPM.csv                   df_radar_all_foms.csv     df_rank.csv\r\n",
      "TwoNum.csv                df_radar_all_foms2_t.csv  df_rank_t.csv\r\n",
      "data_11.csv               df_radar_all_foms_t.csv   heatmap_data.csv\r\n",
      "data_12.csv               df_radar_pm_10yrs.csv     iris.csv\r\n",
      "data_12_2.csv             df_radar_pm_10yrs_t.csv   tmp_map.pickle\r\n",
      "data_IC.csv               df_radar_pm_2yrs_t.csv\r\n"
     ]
    }
   ],
   "source": [
    "ls 'data'"
   ]
  },
  {
   "cell_type": "code",
   "execution_count": 30,
   "metadata": {},
   "outputs": [],
   "source": [
    "def replace_dot(df, col):\n",
    "    \"\"\"replace . in dbname by _ for d3js\"\"\"\n",
    "    #dbname = df['db'].replace(\"_v1.5_10yrs\", \"\").replace(\"v1.5_10yrs\", \"\").replace(\".\", \"_\")\n",
    "    dbname = df[col].replace(\".\", \"_\")\n",
    "    return dbname\n",
    "\n"
   ]
  },
  {
   "cell_type": "code",
   "execution_count": 97,
   "metadata": {},
   "outputs": [],
   "source": [
    "df = pd.read_pickle(\"./data/tmp_map.pickle\")"
   ]
  },
  {
   "cell_type": "code",
   "execution_count": 98,
   "metadata": {},
   "outputs": [],
   "source": [
    "df.reset_index(inplace=True)"
   ]
  },
  {
   "cell_type": "code",
   "execution_count": 99,
   "metadata": {},
   "outputs": [],
   "source": [
    "df.rename({'index': 'db'}, axis=1, inplace=True)\n"
   ]
  },
  {
   "cell_type": "code",
   "execution_count": 100,
   "metadata": {},
   "outputs": [],
   "source": [
    "df.sort_values(by=\"db\", ascending=True, ignore_index=True, inplace=True)"
   ]
  },
  {
   "cell_type": "code",
   "execution_count": 101,
   "metadata": {},
   "outputs": [],
   "source": [
    "df['db'] = df.apply(replace_dot, args=['db'], axis=1 )"
   ]
  },
  {
   "cell_type": "code",
   "execution_count": 102,
   "metadata": {},
   "outputs": [
    {
     "data": {
      "text/html": [
       "<div>\n",
       "<style scoped>\n",
       "    .dataframe tbody tr th:only-of-type {\n",
       "        vertical-align: middle;\n",
       "    }\n",
       "\n",
       "    .dataframe tbody tr th {\n",
       "        vertical-align: top;\n",
       "    }\n",
       "\n",
       "    .dataframe thead th {\n",
       "        text-align: right;\n",
       "    }\n",
       "</style>\n",
       "<table border=\"1\" class=\"dataframe\">\n",
       "  <thead>\n",
       "    <tr style=\"text-align: right;\">\n",
       "      <th></th>\n",
       "      <th>db</th>\n",
       "      <th>coo</th>\n",
       "      <th>values</th>\n",
       "    </tr>\n",
       "  </thead>\n",
       "  <tbody>\n",
       "    <tr>\n",
       "      <th>0</th>\n",
       "      <td>agnddf_v1_5_10yrs</td>\n",
       "      <td>[[0.04908738521234052, 0.08343008661061502], [...</td>\n",
       "      <td>[0.353322528363047, 0.32392363931762796, 0.235...</td>\n",
       "    </tr>\n",
       "    <tr>\n",
       "      <th>1</th>\n",
       "      <td>alt_dust_v1_5_10yrs</td>\n",
       "      <td>[[0.0, 0.20987059226273774], [0.09817477042468...</td>\n",
       "      <td>[0.3466450435840259, 0.3185035389282103, 0.323...</td>\n",
       "    </tr>\n",
       "  </tbody>\n",
       "</table>\n",
       "</div>"
      ],
      "text/plain": [
       "                    db                                                coo  \\\n",
       "0    agnddf_v1_5_10yrs  [[0.04908738521234052, 0.08343008661061502], [...   \n",
       "1  alt_dust_v1_5_10yrs  [[0.0, 0.20987059226273774], [0.09817477042468...   \n",
       "\n",
       "                                              values  \n",
       "0  [0.353322528363047, 0.32392363931762796, 0.235...  \n",
       "1  [0.3466450435840259, 0.3185035389282103, 0.323...  "
      ]
     },
     "execution_count": 102,
     "metadata": {},
     "output_type": "execute_result"
    }
   ],
   "source": [
    "df.head(2)"
   ]
  },
  {
   "cell_type": "code",
   "execution_count": 103,
   "metadata": {},
   "outputs": [],
   "source": [
    "df_skymap = pd.DataFrame(columns=['db', 'RA', 'Dec', 'value'])\n",
    "\n",
    "\n",
    "for i in range(86):\n",
    "    df_skymap_i = pd.DataFrame()\n",
    "    coord = df.iloc[i]['coo']\n",
    "    df_skymap_i['db'] = [ df.iloc[i]['db'] ] * coord.shape[0]\n",
    "    df_skymap_i['fieldRa'] = coord[:,0] * 180/np.pi  # convert to degree\n",
    "    df_skymap_i['fieldDec'] = coord[:,1] * 180/np.pi\n",
    "    df_skymap_i['value'] = df.iloc[i]['values'].data\n",
    "\n",
    "    df_skymap = pd.concat([df_skymap, df_skymap_i], ignore_index=True)\n",
    "\n"
   ]
  },
  {
   "cell_type": "code",
   "execution_count": 104,
   "metadata": {},
   "outputs": [],
   "source": [
    "df_skymap.to_csv(\"./data/pm_skymap.csv\", index=False)"
   ]
  },
  {
   "cell_type": "code",
   "execution_count": 105,
   "metadata": {},
   "outputs": [
    {
     "data": {
      "text/html": [
       "<div>\n",
       "<style scoped>\n",
       "    .dataframe tbody tr th:only-of-type {\n",
       "        vertical-align: middle;\n",
       "    }\n",
       "\n",
       "    .dataframe tbody tr th {\n",
       "        vertical-align: top;\n",
       "    }\n",
       "\n",
       "    .dataframe thead th {\n",
       "        text-align: right;\n",
       "    }\n",
       "</style>\n",
       "<table border=\"1\" class=\"dataframe\">\n",
       "  <thead>\n",
       "    <tr style=\"text-align: right;\">\n",
       "      <th></th>\n",
       "      <th>db</th>\n",
       "      <th>RA</th>\n",
       "      <th>Dec</th>\n",
       "      <th>value</th>\n",
       "      <th>fieldRa</th>\n",
       "      <th>fieldDec</th>\n",
       "    </tr>\n",
       "  </thead>\n",
       "  <tbody>\n",
       "    <tr>\n",
       "      <th>0</th>\n",
       "      <td>agnddf_v1_5_10yrs</td>\n",
       "      <td>NaN</td>\n",
       "      <td>NaN</td>\n",
       "      <td>0.353323</td>\n",
       "      <td>2.8125</td>\n",
       "      <td>4.780192</td>\n",
       "    </tr>\n",
       "    <tr>\n",
       "      <th>1</th>\n",
       "      <td>agnddf_v1_5_10yrs</td>\n",
       "      <td>NaN</td>\n",
       "      <td>NaN</td>\n",
       "      <td>0.323924</td>\n",
       "      <td>8.4375</td>\n",
       "      <td>4.780192</td>\n",
       "    </tr>\n",
       "    <tr>\n",
       "      <th>2</th>\n",
       "      <td>agnddf_v1_5_10yrs</td>\n",
       "      <td>NaN</td>\n",
       "      <td>NaN</td>\n",
       "      <td>0.235091</td>\n",
       "      <td>14.0625</td>\n",
       "      <td>4.780192</td>\n",
       "    </tr>\n",
       "    <tr>\n",
       "      <th>3</th>\n",
       "      <td>agnddf_v1_5_10yrs</td>\n",
       "      <td>NaN</td>\n",
       "      <td>NaN</td>\n",
       "      <td>0.168455</td>\n",
       "      <td>19.6875</td>\n",
       "      <td>4.780192</td>\n",
       "    </tr>\n",
       "    <tr>\n",
       "      <th>4</th>\n",
       "      <td>agnddf_v1_5_10yrs</td>\n",
       "      <td>NaN</td>\n",
       "      <td>NaN</td>\n",
       "      <td>0.306710</td>\n",
       "      <td>25.3125</td>\n",
       "      <td>4.780192</td>\n",
       "    </tr>\n",
       "  </tbody>\n",
       "</table>\n",
       "</div>"
      ],
      "text/plain": [
       "                  db   RA  Dec     value  fieldRa  fieldDec\n",
       "0  agnddf_v1_5_10yrs  NaN  NaN  0.353323   2.8125  4.780192\n",
       "1  agnddf_v1_5_10yrs  NaN  NaN  0.323924   8.4375  4.780192\n",
       "2  agnddf_v1_5_10yrs  NaN  NaN  0.235091  14.0625  4.780192\n",
       "3  agnddf_v1_5_10yrs  NaN  NaN  0.168455  19.6875  4.780192\n",
       "4  agnddf_v1_5_10yrs  NaN  NaN  0.306710  25.3125  4.780192"
      ]
     },
     "execution_count": 105,
     "metadata": {},
     "output_type": "execute_result"
    }
   ],
   "source": [
    "df_skymap.head()"
   ]
  },
  {
   "cell_type": "code",
   "execution_count": null,
   "metadata": {},
   "outputs": [],
   "source": []
  }
 ],
 "metadata": {
  "kernelspec": {
   "display_name": "Python 3",
   "language": "python",
   "name": "python3"
  },
  "language_info": {
   "codemirror_mode": {
    "name": "ipython",
    "version": 3
   },
   "file_extension": ".py",
   "mimetype": "text/x-python",
   "name": "python",
   "nbconvert_exporter": "python",
   "pygments_lexer": "ipython3",
   "version": "3.6.8"
  }
 },
 "nbformat": 4,
 "nbformat_minor": 2
}
