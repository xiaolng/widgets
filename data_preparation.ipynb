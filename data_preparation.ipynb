{
 "cells": [
  {
   "cell_type": "code",
   "execution_count": 1,
   "metadata": {},
   "outputs": [],
   "source": [
    "import numpy as np\n",
    "import pandas as pd\n",
    "import matplotlib.pyplot as plt\n"
   ]
  },
  {
   "cell_type": "code",
   "execution_count": 5,
   "metadata": {},
   "outputs": [],
   "source": [
    "df = pd.read_csv('./data/TPM.csv')"
   ]
  },
  {
   "cell_type": "code",
   "execution_count": 9,
   "metadata": {},
   "outputs": [
    {
     "data": {
      "text/plain": [
       "Index(['Unnamed: 0', 'variable', 'values'], dtype='object')"
      ]
     },
     "execution_count": 9,
     "metadata": {},
     "output_type": "execute_result"
    }
   ],
   "source": [
    "df.columns"
   ]
  },
  {
   "cell_type": "code",
   "execution_count": 22,
   "metadata": {},
   "outputs": [],
   "source": [
    "df.drop('Unnamed: 0', axis=1, inplace=True)"
   ]
  },
  {
   "cell_type": "code",
   "execution_count": 23,
   "metadata": {},
   "outputs": [],
   "source": [
    "def replace_dot(df, col):\n",
    "    \"\"\"replace . in dbname by _ for d3js\"\"\"\n",
    "    #dbname = df['db'].replace(\"_v1.5_10yrs\", \"\").replace(\"v1.5_10yrs\", \"\").replace(\".\", \"_\")\n",
    "    dbname = df[col].replace(\".\", \"_\")\n",
    "    return dbname\n"
   ]
  },
  {
   "cell_type": "code",
   "execution_count": 27,
   "metadata": {
    "scrolled": true
   },
   "outputs": [],
   "source": [
    "df['variable'] = df.apply(replace_dot, args=['variable'], axis=1 )"
   ]
  },
  {
   "cell_type": "code",
   "execution_count": 29,
   "metadata": {},
   "outputs": [],
   "source": [
    "df.to_csv(\"./data/TPM.csv\", index=False)"
   ]
  },
  {
   "cell_type": "code",
   "execution_count": 31,
   "metadata": {},
   "outputs": [
    {
     "data": {
      "text/plain": [
       "array(['dcr_nham1_ugri_v1_5_10yrs', 'dcr_nham1_ugri_v1_5_10yrs',\n",
       "       'dcr_nham1_ugri_v1_5_10yrs', ..., 'filterdist_indx5_v1_5_10yrs',\n",
       "       'filterdist_indx5_v1_5_10yrs', 'filterdist_indx5_v1_5_10yrs'],\n",
       "      dtype=object)"
      ]
     },
     "execution_count": 31,
     "metadata": {},
     "output_type": "execute_result"
    }
   ],
   "source": [
    "df['variable'].values"
   ]
  },
  {
   "cell_type": "code",
   "execution_count": 37,
   "metadata": {},
   "outputs": [
    {
     "data": {
      "text/plain": [
       "['agnddf_v1_5_10yrs',\n",
       " 'alt_dust_v1_5_10yrs',\n",
       " 'alt_roll_mod2_dust_sdf_0_20_v1_5_10yrs',\n",
       " 'baseline_2snaps_v1_5_10yrs',\n",
       " 'baseline_samefilt_v1_5_10yrs',\n",
       " 'baseline_v1_5_10yrs',\n",
       " 'bulges_bs_v1_5_10yrs',\n",
       " 'bulges_bulge_wfd_v1_5_10yrs',\n",
       " 'bulges_cadence_bs_v1_5_10yrs',\n",
       " 'bulges_cadence_bulge_wfd_v1_5_10yrs',\n",
       " 'bulges_cadence_i_heavy_v1_5_10yrs',\n",
       " 'bulges_i_heavy_v1_5_10yrs',\n",
       " 'daily_ddf_v1_5_10yrs',\n",
       " 'dcr_nham1_ug_v1_5_10yrs',\n",
       " 'dcr_nham1_ugr_v1_5_10yrs',\n",
       " 'dcr_nham1_ugri_v1_5_10yrs',\n",
       " 'dcr_nham2_ug_v1_5_10yrs',\n",
       " 'dcr_nham2_ugr_v1_5_10yrs',\n",
       " 'dcr_nham2_ugri_v1_5_10yrs',\n",
       " 'descddf_v1_5_10yrs',\n",
       " 'filterdist_indx1_v1_5_10yrs',\n",
       " 'filterdist_indx2_v1_5_10yrs',\n",
       " 'filterdist_indx3_v1_5_10yrs',\n",
       " 'filterdist_indx4_v1_5_10yrs',\n",
       " 'filterdist_indx5_v1_5_10yrs',\n",
       " 'filterdist_indx6_v1_5_10yrs',\n",
       " 'filterdist_indx7_v1_5_10yrs',\n",
       " 'filterdist_indx8_v1_5_10yrs',\n",
       " 'footprint_add_mag_cloudsv1_5_10yrs',\n",
       " 'footprint_big_sky_dustv1_5_10yrs',\n",
       " 'footprint_big_sky_nouiyv1_5_10yrs',\n",
       " 'footprint_big_skyv1_5_10yrs',\n",
       " 'footprint_big_wfdv1_5_10yrs',\n",
       " 'footprint_bluer_footprintv1_5_10yrs',\n",
       " 'footprint_gp_smoothv1_5_10yrs',\n",
       " 'footprint_newAv1_5_10yrs',\n",
       " 'footprint_newBv1_5_10yrs',\n",
       " 'footprint_no_gp_northv1_5_10yrs',\n",
       " 'footprint_standard_goalsv1_5_10yrs',\n",
       " 'footprint_stuck_rollingv1_5_10yrs',\n",
       " 'goodseeing_gi_v1_5_10yrs',\n",
       " 'goodseeing_gri_v1_5_10yrs',\n",
       " 'goodseeing_griz_v1_5_10yrs',\n",
       " 'goodseeing_gz_v1_5_10yrs',\n",
       " 'goodseeing_i_v1_5_10yrs',\n",
       " 'greedy_footprint_v1_5_10yrs',\n",
       " 'rolling_mod2_sdf_0_10_v1_5_10yrs',\n",
       " 'rolling_mod2_sdf_0_20_v1_5_10yrs',\n",
       " 'rolling_mod3_sdf_0_10_v1_5_10yrs',\n",
       " 'rolling_mod3_sdf_0_20_v1_5_10yrs',\n",
       " 'rolling_mod6_sdf_0_10_v1_5_10yrs',\n",
       " 'rolling_mod6_sdf_0_20_v1_5_10yrs',\n",
       " 'short_exp_2ns_1expt_v1_5_10yrs',\n",
       " 'short_exp_2ns_5expt_v1_5_10yrs',\n",
       " 'short_exp_5ns_1expt_v1_5_10yrs',\n",
       " 'short_exp_5ns_5expt_v1_5_10yrs',\n",
       " 'spiders_v1_5_10yrs',\n",
       " 'third_obs_pt120v1_5_10yrs',\n",
       " 'third_obs_pt15v1_5_10yrs',\n",
       " 'third_obs_pt30v1_5_10yrs',\n",
       " 'third_obs_pt45v1_5_10yrs',\n",
       " 'third_obs_pt60v1_5_10yrs',\n",
       " 'third_obs_pt90v1_5_10yrs',\n",
       " 'twilight_neo_mod1_v1_5_10yrs',\n",
       " 'twilight_neo_mod2_v1_5_10yrs',\n",
       " 'twilight_neo_mod3_v1_5_10yrs',\n",
       " 'twilight_neo_mod4_v1_5_10yrs',\n",
       " 'u60_v1_5_10yrs',\n",
       " 'var_expt_v1_5_10yrs',\n",
       " 'wfd_depth_scale0_65_noddf_v1_5_10yrs',\n",
       " 'wfd_depth_scale0_65_v1_5_10yrs',\n",
       " 'wfd_depth_scale0_70_noddf_v1_5_10yrs',\n",
       " 'wfd_depth_scale0_70_v1_5_10yrs',\n",
       " 'wfd_depth_scale0_75_noddf_v1_5_10yrs',\n",
       " 'wfd_depth_scale0_75_v1_5_10yrs',\n",
       " 'wfd_depth_scale0_80_noddf_v1_5_10yrs',\n",
       " 'wfd_depth_scale0_80_v1_5_10yrs',\n",
       " 'wfd_depth_scale0_85_noddf_v1_5_10yrs',\n",
       " 'wfd_depth_scale0_85_v1_5_10yrs',\n",
       " 'wfd_depth_scale0_90_noddf_v1_5_10yrs',\n",
       " 'wfd_depth_scale0_90_v1_5_10yrs',\n",
       " 'wfd_depth_scale0_95_noddf_v1_5_10yrs',\n",
       " 'wfd_depth_scale0_95_v1_5_10yrs',\n",
       " 'wfd_depth_scale0_99_noddf_v1_5_10yrs',\n",
       " 'wfd_depth_scale0_99_v1_5_10yrs']"
      ]
     },
     "execution_count": 37,
     "metadata": {},
     "output_type": "execute_result"
    }
   ],
   "source": [
    "list( np.unique( np.sort( df['variable'].values ) ) )"
   ]
  },
  {
   "cell_type": "code",
   "execution_count": null,
   "metadata": {},
   "outputs": [],
   "source": []
  }
 ],
 "metadata": {
  "kernelspec": {
   "display_name": "Python 3",
   "language": "python",
   "name": "python3"
  },
  "language_info": {
   "codemirror_mode": {
    "name": "ipython",
    "version": 3
   },
   "file_extension": ".py",
   "mimetype": "text/x-python",
   "name": "python",
   "nbconvert_exporter": "python",
   "pygments_lexer": "ipython3",
   "version": "3.6.8"
  }
 },
 "nbformat": 4,
 "nbformat_minor": 2
}
